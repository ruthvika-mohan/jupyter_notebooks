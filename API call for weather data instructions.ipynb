{
 "cells": [
  {
   "cell_type": "markdown",
   "metadata": {},
   "source": [
    "# Steps for weather data collection using Visual Crossing Weather API\n",
    "\n",
    "* Step 1 : Create an account on https://www.visualcrossing.com/weather/weather-data-services#/signup\n",
    "* Step 2 : Login using credentials mentioned while registering \n",
    "* Step 3: Open https://www.visualcrossing.com/weather/weather-data-services#/timeline\n",
    "* Step 3: Enter Location, Date range, Unit = Metric and include only obs section \n",
    "* Step 4 : Keep an eye on the query cost section. Free plan allows up to 250 rows per request, which means 250 days.  Select a              date range that does not exceed the request. You can also request for just 1000 rows a day. To summarise, your query \n",
    "           cost must not exceed 250 and you can run this 4 times a day. \n",
    "* Step 5 : Copy your query and paste it in the second cell\n",
    "* Step 6: Run the next few cell to get pandas dataframe \n",
    "\n",
    "* Link to understand keywords in the data accquired: https://github.com/visualcrossing/WeatherApi/blob/master/lang/en.txt"
   ]
  },
  {
   "cell_type": "code",
   "execution_count": 4,
   "metadata": {},
   "outputs": [],
   "source": [
    "import requests\n",
    "import json\n",
    "import pandas as pd\n",
    "import os"
   ]
  },
  {
   "cell_type": "markdown",
   "metadata": {},
   "source": [
    "### Paste Query here\n"
   ]
  },
  {
   "cell_type": "code",
   "execution_count": 2,
   "metadata": {},
   "outputs": [],
   "source": [
    "res = requests.get(\"paste_query_here\")"
   ]
  },
  {
   "cell_type": "markdown",
   "metadata": {},
   "source": [
    "## When you run the next cell if Response 404 is returned then there is an error. If  Response 200 is returned then it is successful"
   ]
  },
  {
   "cell_type": "code",
   "execution_count": 3,
   "metadata": {},
   "outputs": [
    {
     "data": {
      "text/plain": [
       "<Response [200]>"
      ]
     },
     "execution_count": 3,
     "metadata": {},
     "output_type": "execute_result"
    }
   ],
   "source": [
    "res"
   ]
  },
  {
   "cell_type": "code",
   "execution_count": 43,
   "metadata": {},
   "outputs": [],
   "source": [
    "result = res.text\n",
    "jsondata = json.loads(result)\n",
    "required = jsondata.get('days')"
   ]
  },
  {
   "cell_type": "code",
   "execution_count": 44,
   "metadata": {},
   "outputs": [],
   "source": [
    "df = pd.DataFrame.from_dict(pd.json_normalize(required), orient='columns')"
   ]
  },
  {
   "cell_type": "markdown",
   "metadata": {},
   "source": [
    "## The pandas dataframe is now accquired. We can print it to see if suitable results are accquired "
   ]
  },
  {
   "cell_type": "code",
   "execution_count": 45,
   "metadata": {},
   "outputs": [
    {
     "data": {
      "text/html": [
       "<div>\n",
       "<style scoped>\n",
       "    .dataframe tbody tr th:only-of-type {\n",
       "        vertical-align: middle;\n",
       "    }\n",
       "\n",
       "    .dataframe tbody tr th {\n",
       "        vertical-align: top;\n",
       "    }\n",
       "\n",
       "    .dataframe thead th {\n",
       "        text-align: right;\n",
       "    }\n",
       "</style>\n",
       "<table border=\"1\" class=\"dataframe\">\n",
       "  <thead>\n",
       "    <tr style=\"text-align: right;\">\n",
       "      <th></th>\n",
       "      <th>datetime</th>\n",
       "      <th>datetimeEpoch</th>\n",
       "      <th>tempmax</th>\n",
       "      <th>tempmin</th>\n",
       "      <th>temp</th>\n",
       "      <th>feelslikemax</th>\n",
       "      <th>feelslikemin</th>\n",
       "      <th>feelslike</th>\n",
       "      <th>dew</th>\n",
       "      <th>humidity</th>\n",
       "      <th>...</th>\n",
       "      <th>sunrise</th>\n",
       "      <th>sunriseEpoch</th>\n",
       "      <th>sunset</th>\n",
       "      <th>sunsetEpoch</th>\n",
       "      <th>moonphase</th>\n",
       "      <th>conditions</th>\n",
       "      <th>description</th>\n",
       "      <th>icon</th>\n",
       "      <th>stations</th>\n",
       "      <th>source</th>\n",
       "    </tr>\n",
       "  </thead>\n",
       "  <tbody>\n",
       "    <tr>\n",
       "      <th>0</th>\n",
       "      <td>2020-01-01</td>\n",
       "      <td>1577817000</td>\n",
       "      <td>30.0</td>\n",
       "      <td>20.0</td>\n",
       "      <td>26.2</td>\n",
       "      <td>31.3</td>\n",
       "      <td>20.0</td>\n",
       "      <td>26.7</td>\n",
       "      <td>18.5</td>\n",
       "      <td>64.68</td>\n",
       "      <td>...</td>\n",
       "      <td>06:44:13</td>\n",
       "      <td>1577841253</td>\n",
       "      <td>18:09:04</td>\n",
       "      <td>1577882344</td>\n",
       "      <td>0.17</td>\n",
       "      <td>Partially cloudy</td>\n",
       "      <td>Partly cloudy throughout the day.</td>\n",
       "      <td>partly-cloudy-day</td>\n",
       "      <td>[43289099999, VOMY]</td>\n",
       "      <td>obs</td>\n",
       "    </tr>\n",
       "    <tr>\n",
       "      <th>1</th>\n",
       "      <td>2020-01-02</td>\n",
       "      <td>1577903400</td>\n",
       "      <td>29.0</td>\n",
       "      <td>20.0</td>\n",
       "      <td>25.5</td>\n",
       "      <td>30.7</td>\n",
       "      <td>20.0</td>\n",
       "      <td>26.1</td>\n",
       "      <td>19.1</td>\n",
       "      <td>68.98</td>\n",
       "      <td>...</td>\n",
       "      <td>06:44:36</td>\n",
       "      <td>1577927676</td>\n",
       "      <td>18:09:37</td>\n",
       "      <td>1577968777</td>\n",
       "      <td>0.22</td>\n",
       "      <td>Partially cloudy</td>\n",
       "      <td>Partly cloudy throughout the day.</td>\n",
       "      <td>partly-cloudy-day</td>\n",
       "      <td>[43289099999, 43291099999, VOMY]</td>\n",
       "      <td>obs</td>\n",
       "    </tr>\n",
       "  </tbody>\n",
       "</table>\n",
       "<p>2 rows × 35 columns</p>\n",
       "</div>"
      ],
      "text/plain": [
       "     datetime  datetimeEpoch  tempmax  tempmin  temp  feelslikemax  \\\n",
       "0  2020-01-01     1577817000     30.0     20.0  26.2          31.3   \n",
       "1  2020-01-02     1577903400     29.0     20.0  25.5          30.7   \n",
       "\n",
       "   feelslikemin  feelslike   dew  humidity  ...   sunrise sunriseEpoch  \\\n",
       "0          20.0       26.7  18.5     64.68  ...  06:44:13   1577841253   \n",
       "1          20.0       26.1  19.1     68.98  ...  06:44:36   1577927676   \n",
       "\n",
       "     sunset sunsetEpoch moonphase        conditions  \\\n",
       "0  18:09:04  1577882344      0.17  Partially cloudy   \n",
       "1  18:09:37  1577968777      0.22  Partially cloudy   \n",
       "\n",
       "                         description               icon  \\\n",
       "0  Partly cloudy throughout the day.  partly-cloudy-day   \n",
       "1  Partly cloudy throughout the day.  partly-cloudy-day   \n",
       "\n",
       "                           stations  source  \n",
       "0               [43289099999, VOMY]     obs  \n",
       "1  [43289099999, 43291099999, VOMY]     obs  \n",
       "\n",
       "[2 rows x 35 columns]"
      ]
     },
     "execution_count": 45,
     "metadata": {},
     "output_type": "execute_result"
    }
   ],
   "source": [
    "df"
   ]
  },
  {
   "cell_type": "markdown",
   "metadata": {},
   "source": [
    "## Converting to csv file stored in your system\n"
   ]
  },
  {
   "cell_type": "code",
   "execution_count": 53,
   "metadata": {},
   "outputs": [],
   "source": [
    "filepath = \"C:\\\\personal\\\\projects\\\\wave2web\\\\trial.csv\"\n",
    "if os.path.exists(filepath):\n",
    "        df.to_csv(filepath, mode = 'a',header = False,sep = \",\", index = False)\n",
    "    \n",
    "else:\n",
    "    df.to_csv(filepath,sep = \",\", index = False)\n"
   ]
  },
  {
   "cell_type": "markdown",
   "metadata": {},
   "source": [
    "### If you get a permission error when you run above cell, check if csv file is open, close it and run the cell again"
   ]
  },
  {
   "cell_type": "code",
   "execution_count": null,
   "metadata": {},
   "outputs": [],
   "source": []
  }
 ],
 "metadata": {
  "kernelspec": {
   "display_name": "Python 3",
   "language": "python",
   "name": "python3"
  },
  "language_info": {
   "codemirror_mode": {
    "name": "ipython",
    "version": 3
   },
   "file_extension": ".py",
   "mimetype": "text/x-python",
   "name": "python",
   "nbconvert_exporter": "python",
   "pygments_lexer": "ipython3",
   "version": "3.7.6"
  }
 },
 "nbformat": 4,
 "nbformat_minor": 4
}
